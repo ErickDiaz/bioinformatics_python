{
 "cells": [
  {
   "cell_type": "markdown",
   "id": "661501ea-369b-4971-aa0f-46ab188bb0dc",
   "metadata": {},
   "source": [
    "<img src=\"title.png\">"
   ]
  },
  {
   "cell_type": "code",
   "execution_count": 1,
   "id": "df59ad2b-28c8-4e6a-a367-17249a455ae9",
   "metadata": {},
   "outputs": [],
   "source": [
    "import pandas as pd\n",
    "from collections import Counter as count\n",
    "import matplotlib.pyplot as plt\n",
    "import forgi.graph.bulge_graph as fgb\n",
    "import forgi.visual.mplotlib as fvm\n"
   ]
  },
  {
   "cell_type": "code",
   "execution_count": 2,
   "id": "61254adb-d26b-464b-a624-f335b5f47683",
   "metadata": {},
   "outputs": [],
   "source": [
    "train = pd.read_json('train.json', lines=True)\n",
    "test = pd.read_json('test.json', lines=True)\n",
    "sub = pd.read_csv('sample_submission.csv')"
   ]
  },
  {
   "cell_type": "code",
   "execution_count": 3,
   "id": "19e61c93-c703-4079-ab5d-678bd55143d3",
   "metadata": {},
   "outputs": [
    {
     "name": "stdout",
     "output_type": "stream",
     "text": [
      "Train shapes:  (2400, 19)\n",
      "Test shapes:  (3634, 7)\n"
     ]
    }
   ],
   "source": [
    "print('Train shapes: ', train.shape)\n",
    "print('Test shapes: ', test.shape)"
   ]
  },
  {
   "cell_type": "markdown",
   "id": "65031913-5d35-4a73-ac20-65a53aff3c3b",
   "metadata": {},
   "source": [
    "# Cargando los datos"
   ]
  },
  {
   "cell_type": "code",
   "execution_count": 4,
   "id": "503f01dc-1f05-41aa-9c58-afbd7df71772",
   "metadata": {},
   "outputs": [
    {
     "data": {
      "text/html": [
       "<div>\n",
       "<style scoped>\n",
       "    .dataframe tbody tr th:only-of-type {\n",
       "        vertical-align: middle;\n",
       "    }\n",
       "\n",
       "    .dataframe tbody tr th {\n",
       "        vertical-align: top;\n",
       "    }\n",
       "\n",
       "    .dataframe thead th {\n",
       "        text-align: right;\n",
       "    }\n",
       "</style>\n",
       "<table border=\"1\" class=\"dataframe\">\n",
       "  <thead>\n",
       "    <tr style=\"text-align: right;\">\n",
       "      <th></th>\n",
       "      <th>index</th>\n",
       "      <th>id</th>\n",
       "      <th>sequence</th>\n",
       "      <th>structure</th>\n",
       "      <th>predicted_loop_type</th>\n",
       "      <th>signal_to_noise</th>\n",
       "      <th>SN_filter</th>\n",
       "      <th>seq_length</th>\n",
       "      <th>seq_scored</th>\n",
       "      <th>reactivity_error</th>\n",
       "      <th>deg_error_Mg_pH10</th>\n",
       "      <th>deg_error_pH10</th>\n",
       "      <th>deg_error_Mg_50C</th>\n",
       "      <th>deg_error_50C</th>\n",
       "      <th>reactivity</th>\n",
       "      <th>deg_Mg_pH10</th>\n",
       "      <th>deg_pH10</th>\n",
       "      <th>deg_Mg_50C</th>\n",
       "      <th>deg_50C</th>\n",
       "    </tr>\n",
       "  </thead>\n",
       "  <tbody>\n",
       "    <tr>\n",
       "      <th>0</th>\n",
       "      <td>0</td>\n",
       "      <td>id_001f94081</td>\n",
       "      <td>GGAAAAGCUCUAAUAACAGGAGACUAGGACUACGUAUUUCUAGGUA...</td>\n",
       "      <td>.....((((((.......)))).)).((.....((..((((((......</td>\n",
       "      <td>EEEEESSSSSSHHHHHHHSSSSBSSXSSIIIIISSIISSSSSSHHH...</td>\n",
       "      <td>6.894</td>\n",
       "      <td>1</td>\n",
       "      <td>107</td>\n",
       "      <td>68</td>\n",
       "      <td>[0.1359, 0.20700000000000002, 0.1633, 0.1452, ...</td>\n",
       "      <td>[0.26130000000000003, 0.38420000000000004, 0.1...</td>\n",
       "      <td>[0.2631, 0.28600000000000003, 0.0964, 0.1574, ...</td>\n",
       "      <td>[0.1501, 0.275, 0.0947, 0.18660000000000002, 0...</td>\n",
       "      <td>[0.2167, 0.34750000000000003, 0.188, 0.2124, 0...</td>\n",
       "      <td>[0.3297, 1.5693000000000001, 1.1227, 0.8686, 0...</td>\n",
       "      <td>[0.7556, 2.983, 0.2526, 1.3789, 0.637600000000...</td>\n",
       "      <td>[2.3375, 3.5060000000000002, 0.3008, 1.0108, 0...</td>\n",
       "      <td>[0.35810000000000003, 2.9683, 0.2589, 1.4552, ...</td>\n",
       "      <td>[0.6382, 3.4773, 0.9988, 1.3228, 0.78770000000...</td>\n",
       "    </tr>\n",
       "    <tr>\n",
       "      <th>1</th>\n",
       "      <td>1</td>\n",
       "      <td>id_0049f53ba</td>\n",
       "      <td>GGAAAAAGCGCGCGCGGUUAGCGCGCGCUUUUGCGCGCGCUGUACC...</td>\n",
       "      <td>.....(((((((((((((((((((((((....)))))))))).)))...</td>\n",
       "      <td>EEEEESSSSSSSSSSSSSSSSSSSSSSSHHHHSSSSSSSSSSBSSS...</td>\n",
       "      <td>0.193</td>\n",
       "      <td>0</td>\n",
       "      <td>107</td>\n",
       "      <td>68</td>\n",
       "      <td>[2.8272, 2.8272, 2.8272, 4.7343, 2.5676, 2.567...</td>\n",
       "      <td>[73705.3985, 73705.3985, 73705.3985, 73705.398...</td>\n",
       "      <td>[10.1986, 9.2418, 5.0933, 5.0933, 5.0933, 5.09...</td>\n",
       "      <td>[16.6174, 13.868, 8.1968, 8.1968, 8.1968, 8.19...</td>\n",
       "      <td>[15.4857, 7.9596, 13.3957, 5.8777, 5.8777, 5.8...</td>\n",
       "      <td>[0.0, 0.0, 0.0, 2.2965, 0.0, 0.0, 0.0, 0.0, 0....</td>\n",
       "      <td>[0.0, 0.0, 0.0, 0.0, 0.0, 0.0, 0.0, 0.0, 0.0, ...</td>\n",
       "      <td>[4.947, 4.4523, 0.0, 0.0, 0.0, 0.0, 0.0, 0.0, ...</td>\n",
       "      <td>[4.8511, 4.0426, 0.0, 0.0, 0.0, 0.0, 0.0, 0.0,...</td>\n",
       "      <td>[7.6692, 0.0, 10.9561, 0.0, 0.0, 0.0, 0.0, 0.0...</td>\n",
       "    </tr>\n",
       "    <tr>\n",
       "      <th>2</th>\n",
       "      <td>2</td>\n",
       "      <td>id_006f36f57</td>\n",
       "      <td>GGAAAGUGCUCAGAUAAGCUAAGCUCGAAUAGCAAUCGAAUAGAAU...</td>\n",
       "      <td>.....((((.((.....((((.(((.....)))..((((......)...</td>\n",
       "      <td>EEEEESSSSISSIIIIISSSSMSSSHHHHHSSSMMSSSSHHHHHHS...</td>\n",
       "      <td>8.800</td>\n",
       "      <td>1</td>\n",
       "      <td>107</td>\n",
       "      <td>68</td>\n",
       "      <td>[0.0931, 0.13290000000000002, 0.11280000000000...</td>\n",
       "      <td>[0.1365, 0.2237, 0.1812, 0.1333, 0.1148, 0.160...</td>\n",
       "      <td>[0.17020000000000002, 0.178, 0.111, 0.091, 0.0...</td>\n",
       "      <td>[0.1033, 0.1464, 0.1126, 0.09620000000000001, ...</td>\n",
       "      <td>[0.14980000000000002, 0.1761, 0.1517, 0.116700...</td>\n",
       "      <td>[0.44820000000000004, 1.4822, 1.1819, 0.743400...</td>\n",
       "      <td>[0.2504, 1.4021, 0.9804, 0.49670000000000003, ...</td>\n",
       "      <td>[2.243, 2.9361, 1.0553, 0.721, 0.6396000000000...</td>\n",
       "      <td>[0.5163, 1.6823000000000001, 1.0426, 0.7902, 0...</td>\n",
       "      <td>[0.9501000000000001, 1.7974999999999999, 1.499...</td>\n",
       "    </tr>\n",
       "    <tr>\n",
       "      <th>3</th>\n",
       "      <td>3</td>\n",
       "      <td>id_0082d463b</td>\n",
       "      <td>GGAAAAGCGCGCGCGCGCGCGCGAAAAAGCGCGCGCGCGCGCGCGC...</td>\n",
       "      <td>......((((((((((((((((......))))))))))))))))((...</td>\n",
       "      <td>EEEEEESSSSSSSSSSSSSSSSHHHHHHSSSSSSSSSSSSSSSSSS...</td>\n",
       "      <td>0.104</td>\n",
       "      <td>0</td>\n",
       "      <td>107</td>\n",
       "      <td>68</td>\n",
       "      <td>[3.5229, 6.0748, 3.0374, 3.0374, 3.0374, 3.037...</td>\n",
       "      <td>[73705.3985, 73705.3985, 73705.3985, 73705.398...</td>\n",
       "      <td>[11.8007, 12.7566, 5.7733, 5.7733, 5.7733, 5.7...</td>\n",
       "      <td>[121286.7181, 121286.7182, 121286.7181, 121286...</td>\n",
       "      <td>[15.3995, 8.1124, 7.7824, 7.7824, 7.7824, 7.78...</td>\n",
       "      <td>[0.0, 2.2399, 0.0, 0.0, 0.0, 0.0, 0.0, 0.0, 0....</td>\n",
       "      <td>[0.0, -0.5083, 0.0, 0.0, 0.0, 0.0, 0.0, 0.0, 0...</td>\n",
       "      <td>[3.4248, 6.8128, 0.0, 0.0, 0.0, 0.0, 0.0, 0.0,...</td>\n",
       "      <td>[0.0, -0.8365, 0.0, 0.0, 0.0, 0.0, 0.0, 0.0, 0...</td>\n",
       "      <td>[7.6692, -1.3223, 0.0, 0.0, 0.0, 0.0, 0.0, 0.0...</td>\n",
       "    </tr>\n",
       "    <tr>\n",
       "      <th>4</th>\n",
       "      <td>4</td>\n",
       "      <td>id_0087940f4</td>\n",
       "      <td>GGAAAAUAUAUAAUAUAUUAUAUAAAUAUAUUAUAGAAGUAUAAUA...</td>\n",
       "      <td>.....(((((((.((((((((((((.(((((((((....)))))))...</td>\n",
       "      <td>EEEEESSSSSSSBSSSSSSSSSSSSBSSSSSSSSSHHHHSSSSSSS...</td>\n",
       "      <td>0.423</td>\n",
       "      <td>0</td>\n",
       "      <td>107</td>\n",
       "      <td>68</td>\n",
       "      <td>[1.665, 2.1728, 2.0041, 1.2405, 0.620200000000...</td>\n",
       "      <td>[4.2139, 3.9637000000000002, 3.2467, 2.4716, 1...</td>\n",
       "      <td>[3.0942, 3.015, 2.1212, 2.0552, 0.881500000000...</td>\n",
       "      <td>[2.6717, 2.4818, 1.9919, 2.5484999999999998, 1...</td>\n",
       "      <td>[1.3285, 3.6173, 1.3057, 1.3021, 1.1507, 1.150...</td>\n",
       "      <td>[0.8267, 2.6577, 2.8481, 0.40090000000000003, ...</td>\n",
       "      <td>[2.1058, 3.138, 2.5437000000000003, 1.0932, 0....</td>\n",
       "      <td>[4.7366, 4.6243, 1.2068, 1.1538, 0.0, 0.0, 0.7...</td>\n",
       "      <td>[2.2052, 1.7947000000000002, 0.7457, 3.1233, 0...</td>\n",
       "      <td>[0.0, 5.1198, -0.3551, -0.3518, 0.0, 0.0, 0.0,...</td>\n",
       "    </tr>\n",
       "  </tbody>\n",
       "</table>\n",
       "</div>"
      ],
      "text/plain": [
       "   index            id                                           sequence  \\\n",
       "0      0  id_001f94081  GGAAAAGCUCUAAUAACAGGAGACUAGGACUACGUAUUUCUAGGUA...   \n",
       "1      1  id_0049f53ba  GGAAAAAGCGCGCGCGGUUAGCGCGCGCUUUUGCGCGCGCUGUACC...   \n",
       "2      2  id_006f36f57  GGAAAGUGCUCAGAUAAGCUAAGCUCGAAUAGCAAUCGAAUAGAAU...   \n",
       "3      3  id_0082d463b  GGAAAAGCGCGCGCGCGCGCGCGAAAAAGCGCGCGCGCGCGCGCGC...   \n",
       "4      4  id_0087940f4  GGAAAAUAUAUAAUAUAUUAUAUAAAUAUAUUAUAGAAGUAUAAUA...   \n",
       "\n",
       "                                           structure  \\\n",
       "0  .....((((((.......)))).)).((.....((..((((((......   \n",
       "1  .....(((((((((((((((((((((((....)))))))))).)))...   \n",
       "2  .....((((.((.....((((.(((.....)))..((((......)...   \n",
       "3  ......((((((((((((((((......))))))))))))))))((...   \n",
       "4  .....(((((((.((((((((((((.(((((((((....)))))))...   \n",
       "\n",
       "                                 predicted_loop_type  signal_to_noise  \\\n",
       "0  EEEEESSSSSSHHHHHHHSSSSBSSXSSIIIIISSIISSSSSSHHH...            6.894   \n",
       "1  EEEEESSSSSSSSSSSSSSSSSSSSSSSHHHHSSSSSSSSSSBSSS...            0.193   \n",
       "2  EEEEESSSSISSIIIIISSSSMSSSHHHHHSSSMMSSSSHHHHHHS...            8.800   \n",
       "3  EEEEEESSSSSSSSSSSSSSSSHHHHHHSSSSSSSSSSSSSSSSSS...            0.104   \n",
       "4  EEEEESSSSSSSBSSSSSSSSSSSSBSSSSSSSSSHHHHSSSSSSS...            0.423   \n",
       "\n",
       "   SN_filter  seq_length  seq_scored  \\\n",
       "0          1         107          68   \n",
       "1          0         107          68   \n",
       "2          1         107          68   \n",
       "3          0         107          68   \n",
       "4          0         107          68   \n",
       "\n",
       "                                    reactivity_error  \\\n",
       "0  [0.1359, 0.20700000000000002, 0.1633, 0.1452, ...   \n",
       "1  [2.8272, 2.8272, 2.8272, 4.7343, 2.5676, 2.567...   \n",
       "2  [0.0931, 0.13290000000000002, 0.11280000000000...   \n",
       "3  [3.5229, 6.0748, 3.0374, 3.0374, 3.0374, 3.037...   \n",
       "4  [1.665, 2.1728, 2.0041, 1.2405, 0.620200000000...   \n",
       "\n",
       "                                   deg_error_Mg_pH10  \\\n",
       "0  [0.26130000000000003, 0.38420000000000004, 0.1...   \n",
       "1  [73705.3985, 73705.3985, 73705.3985, 73705.398...   \n",
       "2  [0.1365, 0.2237, 0.1812, 0.1333, 0.1148, 0.160...   \n",
       "3  [73705.3985, 73705.3985, 73705.3985, 73705.398...   \n",
       "4  [4.2139, 3.9637000000000002, 3.2467, 2.4716, 1...   \n",
       "\n",
       "                                      deg_error_pH10  \\\n",
       "0  [0.2631, 0.28600000000000003, 0.0964, 0.1574, ...   \n",
       "1  [10.1986, 9.2418, 5.0933, 5.0933, 5.0933, 5.09...   \n",
       "2  [0.17020000000000002, 0.178, 0.111, 0.091, 0.0...   \n",
       "3  [11.8007, 12.7566, 5.7733, 5.7733, 5.7733, 5.7...   \n",
       "4  [3.0942, 3.015, 2.1212, 2.0552, 0.881500000000...   \n",
       "\n",
       "                                    deg_error_Mg_50C  \\\n",
       "0  [0.1501, 0.275, 0.0947, 0.18660000000000002, 0...   \n",
       "1  [16.6174, 13.868, 8.1968, 8.1968, 8.1968, 8.19...   \n",
       "2  [0.1033, 0.1464, 0.1126, 0.09620000000000001, ...   \n",
       "3  [121286.7181, 121286.7182, 121286.7181, 121286...   \n",
       "4  [2.6717, 2.4818, 1.9919, 2.5484999999999998, 1...   \n",
       "\n",
       "                                       deg_error_50C  \\\n",
       "0  [0.2167, 0.34750000000000003, 0.188, 0.2124, 0...   \n",
       "1  [15.4857, 7.9596, 13.3957, 5.8777, 5.8777, 5.8...   \n",
       "2  [0.14980000000000002, 0.1761, 0.1517, 0.116700...   \n",
       "3  [15.3995, 8.1124, 7.7824, 7.7824, 7.7824, 7.78...   \n",
       "4  [1.3285, 3.6173, 1.3057, 1.3021, 1.1507, 1.150...   \n",
       "\n",
       "                                          reactivity  \\\n",
       "0  [0.3297, 1.5693000000000001, 1.1227, 0.8686, 0...   \n",
       "1  [0.0, 0.0, 0.0, 2.2965, 0.0, 0.0, 0.0, 0.0, 0....   \n",
       "2  [0.44820000000000004, 1.4822, 1.1819, 0.743400...   \n",
       "3  [0.0, 2.2399, 0.0, 0.0, 0.0, 0.0, 0.0, 0.0, 0....   \n",
       "4  [0.8267, 2.6577, 2.8481, 0.40090000000000003, ...   \n",
       "\n",
       "                                         deg_Mg_pH10  \\\n",
       "0  [0.7556, 2.983, 0.2526, 1.3789, 0.637600000000...   \n",
       "1  [0.0, 0.0, 0.0, 0.0, 0.0, 0.0, 0.0, 0.0, 0.0, ...   \n",
       "2  [0.2504, 1.4021, 0.9804, 0.49670000000000003, ...   \n",
       "3  [0.0, -0.5083, 0.0, 0.0, 0.0, 0.0, 0.0, 0.0, 0...   \n",
       "4  [2.1058, 3.138, 2.5437000000000003, 1.0932, 0....   \n",
       "\n",
       "                                            deg_pH10  \\\n",
       "0  [2.3375, 3.5060000000000002, 0.3008, 1.0108, 0...   \n",
       "1  [4.947, 4.4523, 0.0, 0.0, 0.0, 0.0, 0.0, 0.0, ...   \n",
       "2  [2.243, 2.9361, 1.0553, 0.721, 0.6396000000000...   \n",
       "3  [3.4248, 6.8128, 0.0, 0.0, 0.0, 0.0, 0.0, 0.0,...   \n",
       "4  [4.7366, 4.6243, 1.2068, 1.1538, 0.0, 0.0, 0.7...   \n",
       "\n",
       "                                          deg_Mg_50C  \\\n",
       "0  [0.35810000000000003, 2.9683, 0.2589, 1.4552, ...   \n",
       "1  [4.8511, 4.0426, 0.0, 0.0, 0.0, 0.0, 0.0, 0.0,...   \n",
       "2  [0.5163, 1.6823000000000001, 1.0426, 0.7902, 0...   \n",
       "3  [0.0, -0.8365, 0.0, 0.0, 0.0, 0.0, 0.0, 0.0, 0...   \n",
       "4  [2.2052, 1.7947000000000002, 0.7457, 3.1233, 0...   \n",
       "\n",
       "                                             deg_50C  \n",
       "0  [0.6382, 3.4773, 0.9988, 1.3228, 0.78770000000...  \n",
       "1  [7.6692, 0.0, 10.9561, 0.0, 0.0, 0.0, 0.0, 0.0...  \n",
       "2  [0.9501000000000001, 1.7974999999999999, 1.499...  \n",
       "3  [7.6692, -1.3223, 0.0, 0.0, 0.0, 0.0, 0.0, 0.0...  \n",
       "4  [0.0, 5.1198, -0.3551, -0.3518, 0.0, 0.0, 0.0,...  "
      ]
     },
     "execution_count": 4,
     "metadata": {},
     "output_type": "execute_result"
    }
   ],
   "source": [
    "train.head()"
   ]
  },
  {
   "cell_type": "code",
   "execution_count": 5,
   "id": "e0a8db78-108e-49f0-846b-f14bc774073a",
   "metadata": {},
   "outputs": [
    {
     "data": {
      "text/html": [
       "<div>\n",
       "<style scoped>\n",
       "    .dataframe tbody tr th:only-of-type {\n",
       "        vertical-align: middle;\n",
       "    }\n",
       "\n",
       "    .dataframe tbody tr th {\n",
       "        vertical-align: top;\n",
       "    }\n",
       "\n",
       "    .dataframe thead th {\n",
       "        text-align: right;\n",
       "    }\n",
       "</style>\n",
       "<table border=\"1\" class=\"dataframe\">\n",
       "  <thead>\n",
       "    <tr style=\"text-align: right;\">\n",
       "      <th></th>\n",
       "      <th>id_seqpos</th>\n",
       "      <th>reactivity</th>\n",
       "      <th>deg_Mg_pH10</th>\n",
       "      <th>deg_pH10</th>\n",
       "      <th>deg_Mg_50C</th>\n",
       "      <th>deg_50C</th>\n",
       "    </tr>\n",
       "  </thead>\n",
       "  <tbody>\n",
       "    <tr>\n",
       "      <th>0</th>\n",
       "      <td>id_00073f8be_0</td>\n",
       "      <td>0.0</td>\n",
       "      <td>0.0</td>\n",
       "      <td>0.0</td>\n",
       "      <td>0.0</td>\n",
       "      <td>0.0</td>\n",
       "    </tr>\n",
       "    <tr>\n",
       "      <th>1</th>\n",
       "      <td>id_00073f8be_1</td>\n",
       "      <td>0.0</td>\n",
       "      <td>0.0</td>\n",
       "      <td>0.0</td>\n",
       "      <td>0.0</td>\n",
       "      <td>0.0</td>\n",
       "    </tr>\n",
       "    <tr>\n",
       "      <th>2</th>\n",
       "      <td>id_00073f8be_2</td>\n",
       "      <td>0.0</td>\n",
       "      <td>0.0</td>\n",
       "      <td>0.0</td>\n",
       "      <td>0.0</td>\n",
       "      <td>0.0</td>\n",
       "    </tr>\n",
       "    <tr>\n",
       "      <th>3</th>\n",
       "      <td>id_00073f8be_3</td>\n",
       "      <td>0.0</td>\n",
       "      <td>0.0</td>\n",
       "      <td>0.0</td>\n",
       "      <td>0.0</td>\n",
       "      <td>0.0</td>\n",
       "    </tr>\n",
       "    <tr>\n",
       "      <th>4</th>\n",
       "      <td>id_00073f8be_4</td>\n",
       "      <td>0.0</td>\n",
       "      <td>0.0</td>\n",
       "      <td>0.0</td>\n",
       "      <td>0.0</td>\n",
       "      <td>0.0</td>\n",
       "    </tr>\n",
       "    <tr>\n",
       "      <th>...</th>\n",
       "      <td>...</td>\n",
       "      <td>...</td>\n",
       "      <td>...</td>\n",
       "      <td>...</td>\n",
       "      <td>...</td>\n",
       "      <td>...</td>\n",
       "    </tr>\n",
       "    <tr>\n",
       "      <th>457948</th>\n",
       "      <td>id_ffda94f24_125</td>\n",
       "      <td>0.0</td>\n",
       "      <td>0.0</td>\n",
       "      <td>0.0</td>\n",
       "      <td>0.0</td>\n",
       "      <td>0.0</td>\n",
       "    </tr>\n",
       "    <tr>\n",
       "      <th>457949</th>\n",
       "      <td>id_ffda94f24_126</td>\n",
       "      <td>0.0</td>\n",
       "      <td>0.0</td>\n",
       "      <td>0.0</td>\n",
       "      <td>0.0</td>\n",
       "      <td>0.0</td>\n",
       "    </tr>\n",
       "    <tr>\n",
       "      <th>457950</th>\n",
       "      <td>id_ffda94f24_127</td>\n",
       "      <td>0.0</td>\n",
       "      <td>0.0</td>\n",
       "      <td>0.0</td>\n",
       "      <td>0.0</td>\n",
       "      <td>0.0</td>\n",
       "    </tr>\n",
       "    <tr>\n",
       "      <th>457951</th>\n",
       "      <td>id_ffda94f24_128</td>\n",
       "      <td>0.0</td>\n",
       "      <td>0.0</td>\n",
       "      <td>0.0</td>\n",
       "      <td>0.0</td>\n",
       "      <td>0.0</td>\n",
       "    </tr>\n",
       "    <tr>\n",
       "      <th>457952</th>\n",
       "      <td>id_ffda94f24_129</td>\n",
       "      <td>0.0</td>\n",
       "      <td>0.0</td>\n",
       "      <td>0.0</td>\n",
       "      <td>0.0</td>\n",
       "      <td>0.0</td>\n",
       "    </tr>\n",
       "  </tbody>\n",
       "</table>\n",
       "<p>457953 rows × 6 columns</p>\n",
       "</div>"
      ],
      "text/plain": [
       "               id_seqpos  reactivity  deg_Mg_pH10  deg_pH10  deg_Mg_50C  \\\n",
       "0         id_00073f8be_0         0.0          0.0       0.0         0.0   \n",
       "1         id_00073f8be_1         0.0          0.0       0.0         0.0   \n",
       "2         id_00073f8be_2         0.0          0.0       0.0         0.0   \n",
       "3         id_00073f8be_3         0.0          0.0       0.0         0.0   \n",
       "4         id_00073f8be_4         0.0          0.0       0.0         0.0   \n",
       "...                  ...         ...          ...       ...         ...   \n",
       "457948  id_ffda94f24_125         0.0          0.0       0.0         0.0   \n",
       "457949  id_ffda94f24_126         0.0          0.0       0.0         0.0   \n",
       "457950  id_ffda94f24_127         0.0          0.0       0.0         0.0   \n",
       "457951  id_ffda94f24_128         0.0          0.0       0.0         0.0   \n",
       "457952  id_ffda94f24_129         0.0          0.0       0.0         0.0   \n",
       "\n",
       "        deg_50C  \n",
       "0           0.0  \n",
       "1           0.0  \n",
       "2           0.0  \n",
       "3           0.0  \n",
       "4           0.0  \n",
       "...         ...  \n",
       "457948      0.0  \n",
       "457949      0.0  \n",
       "457950      0.0  \n",
       "457951      0.0  \n",
       "457952      0.0  \n",
       "\n",
       "[457953 rows x 6 columns]"
      ]
     },
     "execution_count": 5,
     "metadata": {},
     "output_type": "execute_result"
    }
   ],
   "source": [
    "sub"
   ]
  },
  {
   "cell_type": "markdown",
   "id": "05a92269-d00f-4812-ba17-8f61bef65abf",
   "metadata": {},
   "source": [
    "# Analisis exploratorio de datos"
   ]
  },
  {
   "cell_type": "code",
   "execution_count": 6,
   "id": "a961dd5b-fe95-4582-b392-f58d6b930cc9",
   "metadata": {},
   "outputs": [
    {
     "name": "stdout",
     "output_type": "stream",
     "text": [
      "<class 'pandas.core.frame.DataFrame'>\n",
      "RangeIndex: 2400 entries, 0 to 2399\n",
      "Data columns (total 19 columns):\n",
      " #   Column               Non-Null Count  Dtype  \n",
      "---  ------               --------------  -----  \n",
      " 0   index                2400 non-null   int64  \n",
      " 1   id                   2400 non-null   object \n",
      " 2   sequence             2400 non-null   object \n",
      " 3   structure            2400 non-null   object \n",
      " 4   predicted_loop_type  2400 non-null   object \n",
      " 5   signal_to_noise      2400 non-null   float64\n",
      " 6   SN_filter            2400 non-null   int64  \n",
      " 7   seq_length           2400 non-null   int64  \n",
      " 8   seq_scored           2400 non-null   int64  \n",
      " 9   reactivity_error     2400 non-null   object \n",
      " 10  deg_error_Mg_pH10    2400 non-null   object \n",
      " 11  deg_error_pH10       2400 non-null   object \n",
      " 12  deg_error_Mg_50C     2400 non-null   object \n",
      " 13  deg_error_50C        2400 non-null   object \n",
      " 14  reactivity           2400 non-null   object \n",
      " 15  deg_Mg_pH10          2400 non-null   object \n",
      " 16  deg_pH10             2400 non-null   object \n",
      " 17  deg_Mg_50C           2400 non-null   object \n",
      " 18  deg_50C              2400 non-null   object \n",
      "dtypes: float64(1), int64(4), object(14)\n",
      "memory usage: 356.4+ KB\n"
     ]
    }
   ],
   "source": [
    "train.info()"
   ]
  },
  {
   "cell_type": "code",
   "execution_count": 7,
   "id": "c5e118c5-7f0c-49b3-98a6-7d4639840d38",
   "metadata": {},
   "outputs": [
    {
     "data": {
      "text/html": [
       "<div>\n",
       "<style scoped>\n",
       "    .dataframe tbody tr th:only-of-type {\n",
       "        vertical-align: middle;\n",
       "    }\n",
       "\n",
       "    .dataframe tbody tr th {\n",
       "        vertical-align: top;\n",
       "    }\n",
       "\n",
       "    .dataframe thead th {\n",
       "        text-align: right;\n",
       "    }\n",
       "</style>\n",
       "<table border=\"1\" class=\"dataframe\">\n",
       "  <thead>\n",
       "    <tr style=\"text-align: right;\">\n",
       "      <th></th>\n",
       "      <th>index</th>\n",
       "      <th>signal_to_noise</th>\n",
       "      <th>SN_filter</th>\n",
       "      <th>seq_length</th>\n",
       "      <th>seq_scored</th>\n",
       "    </tr>\n",
       "  </thead>\n",
       "  <tbody>\n",
       "    <tr>\n",
       "      <th>count</th>\n",
       "      <td>2400.000000</td>\n",
       "      <td>2400.000000</td>\n",
       "      <td>2400.000000</td>\n",
       "      <td>2400.0</td>\n",
       "      <td>2400.0</td>\n",
       "    </tr>\n",
       "    <tr>\n",
       "      <th>mean</th>\n",
       "      <td>1199.500000</td>\n",
       "      <td>4.530456</td>\n",
       "      <td>0.662083</td>\n",
       "      <td>107.0</td>\n",
       "      <td>68.0</td>\n",
       "    </tr>\n",
       "    <tr>\n",
       "      <th>std</th>\n",
       "      <td>692.964646</td>\n",
       "      <td>2.835142</td>\n",
       "      <td>0.473099</td>\n",
       "      <td>0.0</td>\n",
       "      <td>0.0</td>\n",
       "    </tr>\n",
       "    <tr>\n",
       "      <th>min</th>\n",
       "      <td>0.000000</td>\n",
       "      <td>-0.103000</td>\n",
       "      <td>0.000000</td>\n",
       "      <td>107.0</td>\n",
       "      <td>68.0</td>\n",
       "    </tr>\n",
       "    <tr>\n",
       "      <th>25%</th>\n",
       "      <td>599.750000</td>\n",
       "      <td>2.391000</td>\n",
       "      <td>0.000000</td>\n",
       "      <td>107.0</td>\n",
       "      <td>68.0</td>\n",
       "    </tr>\n",
       "    <tr>\n",
       "      <th>50%</th>\n",
       "      <td>1199.500000</td>\n",
       "      <td>4.442500</td>\n",
       "      <td>1.000000</td>\n",
       "      <td>107.0</td>\n",
       "      <td>68.0</td>\n",
       "    </tr>\n",
       "    <tr>\n",
       "      <th>75%</th>\n",
       "      <td>1799.250000</td>\n",
       "      <td>6.294250</td>\n",
       "      <td>1.000000</td>\n",
       "      <td>107.0</td>\n",
       "      <td>68.0</td>\n",
       "    </tr>\n",
       "    <tr>\n",
       "      <th>max</th>\n",
       "      <td>2399.000000</td>\n",
       "      <td>17.194000</td>\n",
       "      <td>1.000000</td>\n",
       "      <td>107.0</td>\n",
       "      <td>68.0</td>\n",
       "    </tr>\n",
       "  </tbody>\n",
       "</table>\n",
       "</div>"
      ],
      "text/plain": [
       "             index  signal_to_noise    SN_filter  seq_length  seq_scored\n",
       "count  2400.000000      2400.000000  2400.000000      2400.0      2400.0\n",
       "mean   1199.500000         4.530456     0.662083       107.0        68.0\n",
       "std     692.964646         2.835142     0.473099         0.0         0.0\n",
       "min       0.000000        -0.103000     0.000000       107.0        68.0\n",
       "25%     599.750000         2.391000     0.000000       107.0        68.0\n",
       "50%    1199.500000         4.442500     1.000000       107.0        68.0\n",
       "75%    1799.250000         6.294250     1.000000       107.0        68.0\n",
       "max    2399.000000        17.194000     1.000000       107.0        68.0"
      ]
     },
     "execution_count": 7,
     "metadata": {},
     "output_type": "execute_result"
    }
   ],
   "source": [
    "train.describe()"
   ]
  },
  {
   "cell_type": "markdown",
   "id": "bd639cab-b521-47e0-b60e-ef89c78aa32c",
   "metadata": {
    "tags": []
   },
   "source": [
    "## Columnas Entrada\n",
    "- **id** - An arbitrary identifier for each sample.\n",
    "- **seq_scored** - (68 in Train and Public Test, 91 in Private Test) Integer value denoting the number of positions used in scoring with predicted values. This should match the length of reactivity, deg_* and *_error_* columns. Note that molecules used for the Private Test will be longer than those in the Train and Public Test data, so the size of this vector will be different.\n",
    "- **seq_length** - (107 in Train and Public Test, 130 in Private Test) Integer values, denotes the length of sequence. Note that molecules used for the Private Test will be longer than those in the Train and Public Test data, so the size of this vector will be different.\n",
    "- **sequence** - (1x107 string in Train and Public Test, 130 in Private Test) Describes the RNA sequence, a combination of A, G, U, and C for each sample. Should be 107 characters long, and the first 68 bases should correspond to the 68 positions specified in seq_scored (note: indexed starting at 0).\n",
    "- **structure** - (1x107 string in Train and Public Test, 130 in Private Test) An array of (, ), and . characters that describe whether a base is estimated to be paired or unpaired. Paired bases are denoted by opening and closing parentheses e.g. (....) means that base 0 is paired to base 5, and bases 1-4 are unpaired.\n",
    "\n",
    "- **predicted_loop_type** - (1x107 string) Describes the structural context (also referred to as 'loop type')of each character in sequence. Loop types assigned by bpRNA from Vienna RNAfold 2 structure. From the bpRNA_documentation: S: paired \"Stem\" M: Multiloop I: Internal loop B: Bulge H: Hairpin loop E: dangling End X: eXternal loop"
   ]
  },
  {
   "cell_type": "markdown",
   "id": "05470bce-8772-4628-973c-f864c5a41f8b",
   "metadata": {},
   "source": [
    "## Variables Objetivo\n",
    "- **reactivity** - (1x68 vector in Train and Public Test, 1x91 in Private Test) An array of floating point numbers, should have the same length as seq_scored. These numbers are reactivity values for the first 68 bases as denoted in sequence, and used to determine the likely secondary structure of the RNA sample.\n",
    "- **deg_pH10** - (1x68 vector in Train and Public Test, 1x91 in Private Test) An array of floating point numbers, should have the same length as seq_scored. These numbers are reactivity values for the first 68 bases as denoted in sequence, and used to determine the likelihood of degradation at the base/linkage after incubating without magnesium at high pH (pH 10).\n",
    "- **deg_Mg_pH10** - (1x68 vector in Train and Public Test, 1x91 in Private Test) An array of floating point numbers, should have the same length as seq_scored. These numbers are reactivity values for the first 68 bases as denoted in sequence, and used to determine the likelihood of degradation at the base/linkage after incubating with magnesium in high pH (pH 10).\n",
    "- **deg_50C** - (1x68 vector in Train and Public Test, 1x91 in Private Test) An array of floating point numbers, should have the same length as seq_scored. These numbers are reactivity values for the first 68 bases as denoted in sequence, and used to determine the likelihood of degradation at the base/linkage after incubating without magnesium at high temperature (50 degrees Celsius).\n",
    "- **deg_Mg_50C** - (1x68 vector in Train and Public Test, 1x91 in Private Test) An array of floating point numbers, should have the same length as seq_scored. These numbers are reactivity values for the first 68 bases as denoted in sequence, and used to determine the likelihood of degradation at the base/linkage after incubating with magnesium at high temperature (50 degrees Celsius)."
   ]
  },
  {
   "cell_type": "markdown",
   "id": "15ff9acd-681e-4cfa-a22a-8d39263339e9",
   "metadata": {},
   "source": [
    "Columnas que representan la estructura de la secuencia:\n",
    "- sequence\n",
    "- structure\n",
    "- predicted_loop_type"
   ]
  },
  {
   "cell_type": "markdown",
   "id": "5f8aef16-664e-4d9e-87b5-585a4f8fbfdb",
   "metadata": {},
   "source": [
    "### Analizando Sequence\n",
    "\n",
    "Describes the RNA sequence, a combination of A, G, U, and C for each sample. Should be 107 characters long, and the first 68 bases should correspond to the 68 positions specified in seq_scored (note: indexed starting at 0).\n",
    "\n",
    "Para el RNA tenemos 4 posibles bases nitrogenadas:\n",
    "1) Guanine (G)\n",
    "2) Adenine (A)\n",
    "3) Cytosine (C)\n",
    "4) Uracil (U)"
   ]
  },
  {
   "cell_type": "code",
   "execution_count": 8,
   "id": "d57458f9-09a3-49f4-b34e-03e9672fc233",
   "metadata": {},
   "outputs": [
    {
     "data": {
      "text/plain": [
       "0       GGAAAAGCUCUAAUAACAGGAGACUAGGACUACGUAUUUCUAGGUA...\n",
       "1       GGAAAAAGCGCGCGCGGUUAGCGCGCGCUUUUGCGCGCGCUGUACC...\n",
       "2       GGAAAGUGCUCAGAUAAGCUAAGCUCGAAUAGCAAUCGAAUAGAAU...\n",
       "3       GGAAAAGCGCGCGCGCGCGCGCGAAAAAGCGCGCGCGCGCGCGCGC...\n",
       "4       GGAAAAUAUAUAAUAUAUUAUAUAAAUAUAUUAUAGAAGUAUAAUA...\n",
       "                              ...                        \n",
       "2395    GGAAAAUAGCAGAGGAAAUACUAGAGCAAUUGCAAAGGCCGAUCAU...\n",
       "2396    GGAAAACAAAAACAAACAACAAAAACAAACAACAAAAACAAACAAC...\n",
       "2397    GGAAAGCCAUACCUAGGCUUCGGCCUAGGUAUGGCGGUGAUCUGGU...\n",
       "2398    GGAAACGAUAGCAGAAGAGAUCGAUAUAGAGCAUAAGCUAAGAAUA...\n",
       "2399    GGAAAGCUAGGACGUGGGAGCGUAGCUCUCCACACGGGUACGCCAA...\n",
       "Name: sequence, Length: 2400, dtype: object"
      ]
     },
     "execution_count": 8,
     "metadata": {},
     "output_type": "execute_result"
    }
   ],
   "source": [
    "train.sequence"
   ]
  },
  {
   "cell_type": "markdown",
   "id": "134c170b-4616-4bbf-bde6-6c18d0c3b267",
   "metadata": {},
   "source": [
    "Probando la primer secuencia"
   ]
  },
  {
   "cell_type": "code",
   "execution_count": 9,
   "id": "6dc8d865-b6b6-41c5-a1cc-397d175c1795",
   "metadata": {},
   "outputs": [
    {
     "data": {
      "text/plain": [
       "Counter({'G': 19, 'A': 45, 'C': 23, 'U': 20})"
      ]
     },
     "execution_count": 9,
     "metadata": {},
     "output_type": "execute_result"
    }
   ],
   "source": [
    "count(train['sequence'][0])"
   ]
  },
  {
   "cell_type": "markdown",
   "id": "bafc9ae7-3490-4598-8b01-7359a650e64f",
   "metadata": {},
   "source": [
    "#### Validando el campo seq_length"
   ]
  },
  {
   "cell_type": "code",
   "execution_count": 10,
   "id": "27f8e964-7ff6-4df6-bb95-a472b303dd9c",
   "metadata": {},
   "outputs": [
    {
     "data": {
      "text/plain": [
       "count    2400.0\n",
       "mean      107.0\n",
       "std         0.0\n",
       "min       107.0\n",
       "25%       107.0\n",
       "50%       107.0\n",
       "75%       107.0\n",
       "max       107.0\n",
       "Name: seq_length, dtype: float64"
      ]
     },
     "execution_count": 10,
     "metadata": {},
     "output_type": "execute_result"
    }
   ],
   "source": [
    "train['seq_length'].describe()"
   ]
  },
  {
   "cell_type": "markdown",
   "id": "0888f926-608c-4ec8-a4f1-0f84fe8a89f4",
   "metadata": {},
   "source": [
    "Todas las secuencias tienen una longitud de 107"
   ]
  },
  {
   "cell_type": "markdown",
   "id": "acc1da01-3943-4ca9-8b24-2bb925bfcbc9",
   "metadata": {},
   "source": [
    "### Analizando structure\n",
    "\n",
    "An array of (, ), and . characters that describe whether a base is estimated to be paired or unpaired. Paired bases are denoted by opening and closing parentheses e.g. (....) means that base 0 is paired to base 5, and bases 1-4 are unpaired.\n",
    "\n",
    "\n",
    "Explicacion : https://www.ebi.ac.uk/training/online/courses/biomacromolecular-structures/rna/\n",
    "\n",
    "Most RNA molecules contain short self-complementary sequences that fold and pair with each other into highly structured forms. These base-pairing interactions are part of RNA secondary structure. The unpaired regions form structures such as hairpin loops, bulges and internal loops, which may be of functional importance (Figure 7). Examples include Rho-independent terminator stem-loops and the tRNA cloverleaf.\n",
    "\n",
    "<img src=\"rna_structure.png\">"
   ]
  },
  {
   "cell_type": "code",
   "execution_count": 11,
   "id": "eee3067e-1eb5-4b5a-a605-eb8e4fc0dfa2",
   "metadata": {},
   "outputs": [],
   "source": [
    "def plot_sample(seq, struct):\n",
    "    plt.figure(figsize=(10,6))\n",
    "    bg = fgb.BulgeGraph.from_fasta_text(f'>rna1\\n{struct}\\n{seq}')[0]\n",
    "    fvm.plot_rna(bg)\n",
    "    plt.show()"
   ]
  },
  {
   "cell_type": "code",
   "execution_count": 12,
   "id": "0482703f-9bbe-4ef3-b883-73c79b853659",
   "metadata": {},
   "outputs": [
    {
     "data": {
      "text/plain": [
       "0       .....((((((.......)))).)).((.....((..((((((......\n",
       "1       .....(((((((((((((((((((((((....)))))))))).)))...\n",
       "2       .....((((.((.....((((.(((.....)))..((((......)...\n",
       "3       ......((((((((((((((((......))))))))))))))))((...\n",
       "4       .....(((((((.((((((((((((.(((((((((....)))))))...\n",
       "                              ...                        \n",
       "2395    ........((..((......))...)).........(((..........\n",
       "2396    .................................................\n",
       "2397    .....(((((((((((((....)))))))))))))(((((((((((...\n",
       "2398    .....((((..(....)..))))......(((....)))..........\n",
       "2399    .....((((((((((((((((...)))).)))).((((((((((.....\n",
       "Name: structure, Length: 2400, dtype: object"
      ]
     },
     "execution_count": 12,
     "metadata": {},
     "output_type": "execute_result"
    }
   ],
   "source": [
    "train.structure"
   ]
  },
  {
   "cell_type": "code",
   "execution_count": 13,
   "id": "6afeb523-2620-4937-a8ce-78ccd4020125",
   "metadata": {},
   "outputs": [
    {
     "data": {
      "text/plain": [
       "Counter({'.': 61, '(': 23, ')': 23})"
      ]
     },
     "execution_count": 13,
     "metadata": {},
     "output_type": "execute_result"
    }
   ],
   "source": [
    "count(train['structure'][0])"
   ]
  },
  {
   "cell_type": "code",
   "execution_count": 14,
   "id": "4c07fbdc-c736-4ead-9757-97bd4044a0ac",
   "metadata": {},
   "outputs": [
    {
     "name": "stdout",
     "output_type": "stream",
     "text": [
      "GGAAAAGCUCUAAUAACAGGAGACUAGGACUACGUAUUUCUAGGUAACUGGAAUAACCCAUACCAGCAGUUAGAGUUCGCUCUAACAAAAGAAACAACAACAACAAC\n",
      ".....((((((.......)))).)).((.....((..((((((....))))))..)).....))....(((((((....))))))).....................\n"
     ]
    }
   ],
   "source": [
    "print(train['sequence'][0])\n",
    "print(train['structure'][0])"
   ]
  },
  {
   "cell_type": "code",
   "execution_count": 15,
   "id": "0a90d565-0f57-4710-96e8-848d39dcce78",
   "metadata": {},
   "outputs": [
    {
     "data": {
      "image/png": "[encoded data removed]",
      "text/plain": [
       "<Figure size 720x432 with 1 Axes>"
      ]
     },
     "metadata": {
      "needs_background": "light"
     },
     "output_type": "display_data"
    }
   ],
   "source": [
    "plot_sample(train['sequence'][0], train['structure'][0])"
   ]
  },
  {
   "cell_type": "markdown",
   "id": "4172c955-07e6-4a28-ac23-4f36636eab6f",
   "metadata": {},
   "source": [
    "### Analizando predicted_loop_type\n",
    "predicted_loop_type (1x107 string) Describes the structural context (also referred to as 'loop type')of each character in sequence. Loop types assigned by bpRNA from Vienna RNAfold 2 structure. \n",
    "From the bpRNA_documentation: \n",
    "- S: paired \"Stem\" \n",
    "- M: Multiloop \n",
    "- I: Internal loop \n",
    "- B: Bulge H: Hairpin loop \n",
    "- E: dangling End \n",
    "- X: eXternal loop\n",
    "\n",
    "<img src=\"rna_loops.png\">"
   ]
  },
  {
   "cell_type": "code",
   "execution_count": 16,
   "id": "f56d236c-c2bf-4f87-baed-137ca10420a0",
   "metadata": {},
   "outputs": [
    {
     "name": "stdout",
     "output_type": "stream",
     "text": [
      "GGAAAAAGCGCGCGCGGUUAGCGCGCGCUUUUGCGCGCGCUGUACCGCGCGCGCUUAUGCAAGUUGCCCGCGGCGUUCGCGCUGUGAAAAGAAACAACAACAACAAC\n",
      "EEEEESSSSSSSSSSSSSSSSSSSSSSSHHHHSSSSSSSSSSBSSSSSSSSSSSSSMMSSSHHHSSSMSSSSSSSHHHHSSSSSSSEEEEEEEEEEEEEEEEEEEEE\n"
     ]
    }
   ],
   "source": [
    "print(train['sequence'][1])\n",
    "print(train['predicted_loop_type'][1])"
   ]
  },
  {
   "cell_type": "code",
   "execution_count": 17,
   "id": "84465ac2-b3bb-4985-8837-2f4ae56c7cf6",
   "metadata": {},
   "outputs": [
    {
     "data": {
      "image/png": "[encoded data removed]",
      "text/plain": [
       "<Figure size 720x432 with 1 Axes>"
      ]
     },
     "metadata": {
      "needs_background": "light"
     },
     "output_type": "display_data"
    }
   ],
   "source": [
    "plot_sample(train['sequence'][1], train['structure'][1])"
   ]
  },
  {
   "cell_type": "markdown",
   "id": "affce9c5-e20f-49b6-973d-8f547722a737",
   "metadata": {},
   "source": [
    "### Variables Objetivo"
   ]
  },
  {
   "cell_type": "code",
   "execution_count": 18,
   "id": "0a325651-6355-401a-b7d8-b29c1df416a6",
   "metadata": {},
   "outputs": [
    {
     "data": {
      "text/plain": [
       "'GGAAAAAGCGCGCGCGGUUAGCGCGCGCUUUUGCGCGCGCUGUACCGCGCGCGCUUAUGCAAGUUGCCCGCGGCGUUCGCGCUGUGAAAAGAAACAACAACAACAAC'"
      ]
     },
     "execution_count": 18,
     "metadata": {},
     "output_type": "execute_result"
    }
   ],
   "source": [
    "train['sequence'][1]"
   ]
  },
  {
   "cell_type": "code",
   "execution_count": 19,
   "id": "12fd5a95-c955-4d95-902e-95fd53930c9e",
   "metadata": {},
   "outputs": [
    {
     "data": {
      "image/png": "[encoded data removed]",
      "text/plain": [
       "<Figure size 720x432 with 1 Axes>"
      ]
     },
     "metadata": {
      "needs_background": "light"
     },
     "output_type": "display_data"
    }
   ],
   "source": [
    "plot_sample(train['sequence'][1], train['structure'][1])"
   ]
  },
  {
   "cell_type": "code",
   "execution_count": 20,
   "id": "2b2151a7-6c30-4691-b95a-1a7e6491c145",
   "metadata": {},
   "outputs": [
    {
     "name": "stdout",
     "output_type": "stream",
     "text": [
      "[0.0, 0.0, 0.0, 2.2965, 0.0, 0.0, 0.0, 0.0, 0.0, 0.0, 0.0, 0.0, 0.0, 0.0, 0.0, 0.0, 0.0, 0.0, 2.0668, 0.0, 0.0, 0.0, 0.0, 0.0, 0.0, -1.0878, 0.0, -1.0334, 4.7697, 2.8911, 1.2158, 1.1483, 1.0878, 0.0, 0.0, 0.0, 0.0, 0.0, 0.0, 1.0334, 0.0, 0.9842000000000001, 0.0, 0.0, 0.0, 0.9395, -0.9395, 0.8986000000000001, 0.0, 0.0, 0.0, 0.8612000000000001, 0.8267, 0.795, 0.0, 1.4763, 0.7127, 0.6890000000000001, 0.0, 2.4316, 1.6758000000000002, 1.0599, 1.0082, 0.9613, 0.4697, -1.2631000000000001, 0.0, 0.0]\n",
      "[0.0, 0.0, 0.0, 0.0, 0.0, 0.0, 0.0, 0.0, 0.0, 0.0, 0.0, 0.0, 0.0, 0.0, 0.0, 0.0, 0.0, 0.0, 0.0, 0.0, 0.0, 0.0, 0.0, 0.0, 0.0, -0.7758, 0.0, -0.737, 0.0, 14.0377, 0.0, 0.0, 0.0, 4.9134, 0.0, 0.0, 0.0, 0.0, 0.0, 0.0, 0.0, 0.0, 5.8962, 2.4568, 0.0, 0.0, 1.4358, 3.2757, 1.4741, 0.0, 0.0, 0.0, 0.0, 0.0, 1.3401, 1.2284, 2.9482, 0.9213, 2.3275, 0.737, 1.3401, 0.6409, 3.4396, 0.47550000000000003, 0.4607, -0.7817000000000001, 0.0, 0.43360000000000004]\n",
      "[4.947, 4.4523, 0.0, 0.0, 0.0, 0.0, 0.0, 0.0, 0.0, 0.0, 0.0, 0.0, 0.0, 0.0, 0.0, 0.0, 10.2747, 0.0, 0.0, 0.0, 0.0, 0.0, 0.0, 0.0, 0.0, -2.3434, 0.0, -2.2262, 3.1803, -2.1202, 2.9682, 5.2381, 0.0, 0.0, 0.0, 0.0, 0.0, 0.0, 0.0, 0.0, 0.0, 2.4735, 4.4524, 2.1202, 0.0, 0.0, 0.0, 1.9358, 0.0, 0.0, 0.0, 1.8552, 0.0, 0.0, 1.7810000000000001, 3.2981, 1.5901, 1.5352999999999999, 1.4841, 6.3606, 1.2368000000000001, 1.2033, 1.1717, 2.2262, 0.0, -2.6244, 1.0601, 0.0]\n",
      "[4.8511, 4.0426, 0.0, 0.0, 0.0, 0.0, 0.0, 0.0, 0.0, 0.0, 0.0, 0.0, 0.0, 0.0, 0.0, 0.0, 0.0, 0.0, 0.0, 0.0, 0.0, 0.0, 6.064, 0.0, 0.0, 3.5746, 0.0, 2.8299000000000003, 0.0, 6.9305, 2.4257, 0.0, 0.0, 0.0, 2.2052, 0.0, 0.0, 2.0214, 1.8659, 0.0, 0.0, 1.7326000000000001, 1.6171, 0.0, 1.5161, 1.4269, -1.1026, 0.0, 0.0, 0.0, 0.0, 0.0, 0.0, 1.3476, 1.2767, 2.3102, 4.6648, 2.5094000000000003, 0.0, 0.0, 0.8086, 0.0, 6.0643, 0.0, 0.5916, 0.1348, 0.5273, 1.0107]\n",
      "[7.6692, 0.0, 10.9561, 0.0, 0.0, 0.0, 0.0, 0.0, 0.0, 0.0, 0.0, 0.0, 0.0, 0.0, 0.0, 0.0, 0.0, 0.0, 0.0, 0.0, 0.0, 0.0, 0.0, 0.0, 0.0, -2.0183, 0.0, 6.6041, 6.9722, -1.8261, 0.0, 0.0, 0.0, 0.0, 0.0, 0.0, 0.0, 0.0, 0.0, 0.0, 0.0, 3.1955999999999998, 2.9498, 2.7391, 0.0, 0.0, -1.7431, 0.0, 0.0, 0.0, 0.0, 0.0, 0.0, 2.5564999999999998, 2.3967, 6.0548, 0.0, 0.0, 3.6521, 4.0795, 2.3008, 0.0, 2.8405, 2.6446, 0.0, -3.1955999999999998, 0.0, 0.0]\n"
     ]
    }
   ],
   "source": [
    "print(train['reactivity'][1])\n",
    "print(train['deg_Mg_pH10'][1])\n",
    "print(train['deg_pH10'][1])\n",
    "print(train['deg_Mg_50C'][1])\n",
    "print(train['deg_50C'][1])"
   ]
  },
  {
   "cell_type": "markdown",
   "id": "bed64f67-9821-4eb3-bc42-db066994ae7a",
   "metadata": {},
   "source": [
    "## Creando el set de datos"
   ]
  },
  {
   "cell_type": "code",
   "execution_count": 21,
   "id": "9f5c9ef9-9336-4e2c-8109-b825b3a7a8d0",
   "metadata": {},
   "outputs": [],
   "source": [
    "train_data = []\n",
    "for mol_id in train['id'].unique():\n",
    "    sample_data = train.loc[train['id'] == mol_id]\n",
    "    for i in range(0,68):\n",
    "        sample_tuple = (\n",
    "            sample_data['id'].values[0],\n",
    "            sample_data['sequence'].values[0][i],\n",
    "            sample_data['structure'].values[0][i], \n",
    "            sample_data['predicted_loop_type'].values[0][i],\n",
    "            sample_data['reactivity'].values[0][i], \n",
    "            sample_data['reactivity_error'].values[0][i],\n",
    "            sample_data['deg_Mg_pH10'].values[0][i], \n",
    "            sample_data['deg_error_Mg_pH10'].values[0][i],\n",
    "            sample_data['deg_pH10'].values[0][i], \n",
    "            sample_data['deg_error_pH10'].values[0][i],\n",
    "            sample_data['deg_Mg_50C'].values[0][i], \n",
    "            sample_data['deg_error_Mg_50C'].values[0][i],\n",
    "            sample_data['deg_50C'].values[0][i], \n",
    "            sample_data['deg_error_50C'].values[0][i]\n",
    "        )\n",
    "        train_data.append(sample_tuple)"
   ]
  },
  {
   "cell_type": "code",
   "execution_count": 22,
   "id": "b0fdec65-91b4-4477-bda3-ba18bed63cbf",
   "metadata": {},
   "outputs": [],
   "source": [
    "train_data = pd.DataFrame(\n",
    "    train_data, \n",
    "    columns=[\n",
    "        'id', 'sequence', 'structure', 'predicted_loop_type', \n",
    "        'reactivity', 'reactivity_error', 'deg_Mg_pH10', 'deg_error_Mg_pH10',\n",
    "        'deg_pH10', 'deg_error_pH10', 'deg_Mg_50C', 'deg_error_Mg_50C', \n",
    "        'deg_50C', 'deg_error_50C'\n",
    "    ]\n",
    ")"
   ]
  },
  {
   "cell_type": "code",
   "execution_count": 23,
   "id": "8f6fa90e-aefd-4ae3-aec3-0197fb5f1968",
   "metadata": {},
   "outputs": [
    {
     "data": {
      "text/html": [
       "<div>\n",
       "<style scoped>\n",
       "    .dataframe tbody tr th:only-of-type {\n",
       "        vertical-align: middle;\n",
       "    }\n",
       "\n",
       "    .dataframe tbody tr th {\n",
       "        vertical-align: top;\n",
       "    }\n",
       "\n",
       "    .dataframe thead th {\n",
       "        text-align: right;\n",
       "    }\n",
       "</style>\n",
       "<table border=\"1\" class=\"dataframe\">\n",
       "  <thead>\n",
       "    <tr style=\"text-align: right;\">\n",
       "      <th></th>\n",
       "      <th>id</th>\n",
       "      <th>sequence</th>\n",
       "      <th>structure</th>\n",
       "      <th>predicted_loop_type</th>\n",
       "      <th>reactivity</th>\n",
       "      <th>reactivity_error</th>\n",
       "      <th>deg_Mg_pH10</th>\n",
       "      <th>deg_error_Mg_pH10</th>\n",
       "      <th>deg_pH10</th>\n",
       "      <th>deg_error_pH10</th>\n",
       "      <th>deg_Mg_50C</th>\n",
       "      <th>deg_error_Mg_50C</th>\n",
       "      <th>deg_50C</th>\n",
       "      <th>deg_error_50C</th>\n",
       "    </tr>\n",
       "  </thead>\n",
       "  <tbody>\n",
       "    <tr>\n",
       "      <th>0</th>\n",
       "      <td>id_001f94081</td>\n",
       "      <td>G</td>\n",
       "      <td>.</td>\n",
       "      <td>E</td>\n",
       "      <td>0.3297</td>\n",
       "      <td>0.1359</td>\n",
       "      <td>0.7556</td>\n",
       "      <td>0.2613</td>\n",
       "      <td>2.3375</td>\n",
       "      <td>0.2631</td>\n",
       "      <td>0.3581</td>\n",
       "      <td>0.1501</td>\n",
       "      <td>0.6382</td>\n",
       "      <td>0.2167</td>\n",
       "    </tr>\n",
       "    <tr>\n",
       "      <th>1</th>\n",
       "      <td>id_001f94081</td>\n",
       "      <td>G</td>\n",
       "      <td>.</td>\n",
       "      <td>E</td>\n",
       "      <td>1.5693</td>\n",
       "      <td>0.2070</td>\n",
       "      <td>2.9830</td>\n",
       "      <td>0.3842</td>\n",
       "      <td>3.5060</td>\n",
       "      <td>0.2860</td>\n",
       "      <td>2.9683</td>\n",
       "      <td>0.2750</td>\n",
       "      <td>3.4773</td>\n",
       "      <td>0.3475</td>\n",
       "    </tr>\n",
       "    <tr>\n",
       "      <th>2</th>\n",
       "      <td>id_001f94081</td>\n",
       "      <td>A</td>\n",
       "      <td>.</td>\n",
       "      <td>E</td>\n",
       "      <td>1.1227</td>\n",
       "      <td>0.1633</td>\n",
       "      <td>0.2526</td>\n",
       "      <td>0.1372</td>\n",
       "      <td>0.3008</td>\n",
       "      <td>0.0964</td>\n",
       "      <td>0.2589</td>\n",
       "      <td>0.0947</td>\n",
       "      <td>0.9988</td>\n",
       "      <td>0.1880</td>\n",
       "    </tr>\n",
       "    <tr>\n",
       "      <th>3</th>\n",
       "      <td>id_001f94081</td>\n",
       "      <td>A</td>\n",
       "      <td>.</td>\n",
       "      <td>E</td>\n",
       "      <td>0.8686</td>\n",
       "      <td>0.1452</td>\n",
       "      <td>1.3789</td>\n",
       "      <td>0.2531</td>\n",
       "      <td>1.0108</td>\n",
       "      <td>0.1574</td>\n",
       "      <td>1.4552</td>\n",
       "      <td>0.1866</td>\n",
       "      <td>1.3228</td>\n",
       "      <td>0.2124</td>\n",
       "    </tr>\n",
       "    <tr>\n",
       "      <th>4</th>\n",
       "      <td>id_001f94081</td>\n",
       "      <td>A</td>\n",
       "      <td>.</td>\n",
       "      <td>E</td>\n",
       "      <td>0.7217</td>\n",
       "      <td>0.1314</td>\n",
       "      <td>0.6376</td>\n",
       "      <td>0.1798</td>\n",
       "      <td>0.2635</td>\n",
       "      <td>0.1000</td>\n",
       "      <td>0.7244</td>\n",
       "      <td>0.1369</td>\n",
       "      <td>0.7877</td>\n",
       "      <td>0.1703</td>\n",
       "    </tr>\n",
       "  </tbody>\n",
       "</table>\n",
       "</div>"
      ],
      "text/plain": [
       "             id sequence structure predicted_loop_type  reactivity  \\\n",
       "0  id_001f94081        G         .                   E      0.3297   \n",
       "1  id_001f94081        G         .                   E      1.5693   \n",
       "2  id_001f94081        A         .                   E      1.1227   \n",
       "3  id_001f94081        A         .                   E      0.8686   \n",
       "4  id_001f94081        A         .                   E      0.7217   \n",
       "\n",
       "   reactivity_error  deg_Mg_pH10  deg_error_Mg_pH10  deg_pH10  deg_error_pH10  \\\n",
       "0            0.1359       0.7556             0.2613    2.3375          0.2631   \n",
       "1            0.2070       2.9830             0.3842    3.5060          0.2860   \n",
       "2            0.1633       0.2526             0.1372    0.3008          0.0964   \n",
       "3            0.1452       1.3789             0.2531    1.0108          0.1574   \n",
       "4            0.1314       0.6376             0.1798    0.2635          0.1000   \n",
       "\n",
       "   deg_Mg_50C  deg_error_Mg_50C  deg_50C  deg_error_50C  \n",
       "0      0.3581            0.1501   0.6382         0.2167  \n",
       "1      2.9683            0.2750   3.4773         0.3475  \n",
       "2      0.2589            0.0947   0.9988         0.1880  \n",
       "3      1.4552            0.1866   1.3228         0.2124  \n",
       "4      0.7244            0.1369   0.7877         0.1703  "
      ]
     },
     "execution_count": 23,
     "metadata": {},
     "output_type": "execute_result"
    }
   ],
   "source": [
    "train_data.head()"
   ]
  },
  {
   "cell_type": "code",
   "execution_count": 24,
   "id": "327a39d6-7887-423b-9a39-2a91402d09c1",
   "metadata": {},
   "outputs": [
    {
     "data": {
      "text/html": [
       "<div>\n",
       "<style scoped>\n",
       "    .dataframe tbody tr th:only-of-type {\n",
       "        vertical-align: middle;\n",
       "    }\n",
       "\n",
       "    .dataframe tbody tr th {\n",
       "        vertical-align: top;\n",
       "    }\n",
       "\n",
       "    .dataframe thead th {\n",
       "        text-align: right;\n",
       "    }\n",
       "</style>\n",
       "<table border=\"1\" class=\"dataframe\">\n",
       "  <thead>\n",
       "    <tr style=\"text-align: right;\">\n",
       "      <th></th>\n",
       "      <th>reactivity</th>\n",
       "      <th>reactivity_error</th>\n",
       "      <th>deg_Mg_pH10</th>\n",
       "      <th>deg_error_Mg_pH10</th>\n",
       "      <th>deg_pH10</th>\n",
       "      <th>deg_error_pH10</th>\n",
       "      <th>deg_Mg_50C</th>\n",
       "      <th>deg_error_Mg_50C</th>\n",
       "      <th>deg_50C</th>\n",
       "      <th>deg_error_50C</th>\n",
       "    </tr>\n",
       "  </thead>\n",
       "  <tbody>\n",
       "    <tr>\n",
       "      <th>count</th>\n",
       "      <td>163200.000000</td>\n",
       "      <td>163200.000000</td>\n",
       "      <td>163200.000000</td>\n",
       "      <td>163200.000000</td>\n",
       "      <td>163200.000000</td>\n",
       "      <td>163200.000000</td>\n",
       "      <td>163200.000000</td>\n",
       "      <td>163200.000000</td>\n",
       "      <td>163200.000000</td>\n",
       "      <td>163200.000000</td>\n",
       "    </tr>\n",
       "    <tr>\n",
       "      <th>mean</th>\n",
       "      <td>0.374922</td>\n",
       "      <td>2834.110981</td>\n",
       "      <td>0.446303</td>\n",
       "      <td>2332.815143</td>\n",
       "      <td>0.446911</td>\n",
       "      <td>6292.705603</td>\n",
       "      <td>0.407030</td>\n",
       "      <td>3582.263512</td>\n",
       "      <td>0.425889</td>\n",
       "      <td>5982.834519</td>\n",
       "    </tr>\n",
       "    <tr>\n",
       "      <th>std</th>\n",
       "      <td>0.725652</td>\n",
       "      <td>19128.620088</td>\n",
       "      <td>0.704172</td>\n",
       "      <td>14627.228661</td>\n",
       "      <td>1.285747</td>\n",
       "      <td>42334.295746</td>\n",
       "      <td>0.868013</td>\n",
       "      <td>23237.578303</td>\n",
       "      <td>1.122356</td>\n",
       "      <td>38197.947633</td>\n",
       "    </tr>\n",
       "    <tr>\n",
       "      <th>min</th>\n",
       "      <td>-20.664800</td>\n",
       "      <td>0.001900</td>\n",
       "      <td>-14.740500</td>\n",
       "      <td>0.006100</td>\n",
       "      <td>-44.515300</td>\n",
       "      <td>0.008300</td>\n",
       "      <td>-24.252500</td>\n",
       "      <td>0.004100</td>\n",
       "      <td>-38.339900</td>\n",
       "      <td>0.006500</td>\n",
       "    </tr>\n",
       "    <tr>\n",
       "      <th>25%</th>\n",
       "      <td>0.043500</td>\n",
       "      <td>0.044900</td>\n",
       "      <td>0.131400</td>\n",
       "      <td>0.057200</td>\n",
       "      <td>0.099500</td>\n",
       "      <td>0.073900</td>\n",
       "      <td>0.074000</td>\n",
       "      <td>0.052000</td>\n",
       "      <td>0.092200</td>\n",
       "      <td>0.081400</td>\n",
       "    </tr>\n",
       "    <tr>\n",
       "      <th>50%</th>\n",
       "      <td>0.215800</td>\n",
       "      <td>0.083000</td>\n",
       "      <td>0.289400</td>\n",
       "      <td>0.098900</td>\n",
       "      <td>0.275100</td>\n",
       "      <td>0.120600</td>\n",
       "      <td>0.255800</td>\n",
       "      <td>0.088900</td>\n",
       "      <td>0.307900</td>\n",
       "      <td>0.133800</td>\n",
       "    </tr>\n",
       "    <tr>\n",
       "      <th>75%</th>\n",
       "      <td>0.539700</td>\n",
       "      <td>0.173000</td>\n",
       "      <td>0.567425</td>\n",
       "      <td>0.201200</td>\n",
       "      <td>0.568600</td>\n",
       "      <td>0.245100</td>\n",
       "      <td>0.560200</td>\n",
       "      <td>0.182500</td>\n",
       "      <td>0.613600</td>\n",
       "      <td>0.265700</td>\n",
       "    </tr>\n",
       "    <tr>\n",
       "      <th>max</th>\n",
       "      <td>20.667500</td>\n",
       "      <td>146151.225000</td>\n",
       "      <td>14.740100</td>\n",
       "      <td>104235.174200</td>\n",
       "      <td>44.521200</td>\n",
       "      <td>314833.569500</td>\n",
       "      <td>24.254900</td>\n",
       "      <td>171525.321700</td>\n",
       "      <td>38.343800</td>\n",
       "      <td>271158.604000</td>\n",
       "    </tr>\n",
       "  </tbody>\n",
       "</table>\n",
       "</div>"
      ],
      "text/plain": [
       "          reactivity  reactivity_error    deg_Mg_pH10  deg_error_Mg_pH10  \\\n",
       "count  163200.000000     163200.000000  163200.000000      163200.000000   \n",
       "mean        0.374922       2834.110981       0.446303        2332.815143   \n",
       "std         0.725652      19128.620088       0.704172       14627.228661   \n",
       "min       -20.664800          0.001900     -14.740500           0.006100   \n",
       "25%         0.043500          0.044900       0.131400           0.057200   \n",
       "50%         0.215800          0.083000       0.289400           0.098900   \n",
       "75%         0.539700          0.173000       0.567425           0.201200   \n",
       "max        20.667500     146151.225000      14.740100      104235.174200   \n",
       "\n",
       "            deg_pH10  deg_error_pH10     deg_Mg_50C  deg_error_Mg_50C  \\\n",
       "count  163200.000000   163200.000000  163200.000000     163200.000000   \n",
       "mean        0.446911     6292.705603       0.407030       3582.263512   \n",
       "std         1.285747    42334.295746       0.868013      23237.578303   \n",
       "min       -44.515300        0.008300     -24.252500          0.004100   \n",
       "25%         0.099500        0.073900       0.074000          0.052000   \n",
       "50%         0.275100        0.120600       0.255800          0.088900   \n",
       "75%         0.568600        0.245100       0.560200          0.182500   \n",
       "max        44.521200   314833.569500      24.254900     171525.321700   \n",
       "\n",
       "             deg_50C  deg_error_50C  \n",
       "count  163200.000000  163200.000000  \n",
       "mean        0.425889    5982.834519  \n",
       "std         1.122356   38197.947633  \n",
       "min       -38.339900       0.006500  \n",
       "25%         0.092200       0.081400  \n",
       "50%         0.307900       0.133800  \n",
       "75%         0.613600       0.265700  \n",
       "max        38.343800  271158.604000  "
      ]
     },
     "execution_count": 24,
     "metadata": {},
     "output_type": "execute_result"
    }
   ],
   "source": [
    "train_data.describe()"
   ]
  },
  {
   "cell_type": "markdown",
   "id": "e20e9e02-91ed-4587-8042-71d005412fa5",
   "metadata": {},
   "source": [
    "## Reactivity"
   ]
  },
  {
   "cell_type": "code",
   "execution_count": 25,
   "id": "072783ed-088c-4f6b-a4cb-92671c5bac47",
   "metadata": {},
   "outputs": [
    {
     "data": {
      "text/plain": [
       "Text(0.5, 1.0, 'Uracil (U)')"
      ]
     },
     "execution_count": 25,
     "metadata": {},
     "output_type": "execute_result"
    },
    {
     "data": {
      "image/png": "[encoded data removed]",
      "text/plain": [
       "<Figure size 720x720 with 4 Axes>"
      ]
     },
     "metadata": {
      "needs_background": "light"
     },
     "output_type": "display_data"
    }
   ],
   "source": [
    "g_val = train_data[train_data.sequence == 'G']['reactivity'].values\n",
    "a_val = train_data[train_data.sequence == 'A']['reactivity'].values\n",
    "c_val = train_data[train_data.sequence == 'C']['reactivity'].values\n",
    "u_val = train_data[train_data.sequence == 'U']['reactivity'].values\n",
    "\n",
    "fig, axs = plt.subplots(2, 2, figsize=(10, 10))\n",
    "axs[0, 0].hist(g_val, bins=50, density=True, range=(-2,4.5))\n",
    "axs[0, 0].set_title('Guanine (G)')\n",
    "axs[0, 1].hist(a_val, bins=50, density=True, range=(-1,4))\n",
    "axs[0, 1].set_title('Adenine (A)')\n",
    "axs[1, 0].hist(c_val, bins=50, density=True, range=(-2,2.5))\n",
    "axs[1, 0].set_title('Cytosine (C)')\n",
    "axs[1, 1].hist(u_val, bins=50, density=True, range=(-2,4))\n",
    "axs[1, 1].set_title('Uracil (U)')"
   ]
  },
  {
   "cell_type": "markdown",
   "id": "70242ae2-d5a6-407f-819c-de965c742f57",
   "metadata": {},
   "source": [
    "## deg_pH10"
   ]
  },
  {
   "cell_type": "code",
   "execution_count": 26,
   "id": "23fc6ee4-0e9b-450b-a52f-45773c51fc23",
   "metadata": {},
   "outputs": [
    {
     "data": {
      "text/plain": [
       "Text(0.5, 1.0, 'Uracil (U)')"
      ]
     },
     "execution_count": 26,
     "metadata": {},
     "output_type": "execute_result"
    },
    {
     "data": {
      "image/png": "[encoded data removed]",
      "text/plain": [
       "<Figure size 720x720 with 4 Axes>"
      ]
     },
     "metadata": {
      "needs_background": "light"
     },
     "output_type": "display_data"
    }
   ],
   "source": [
    "g_val = train_data[train_data.sequence == 'G']['deg_pH10'].values\n",
    "a_val = train_data[train_data.sequence == 'A']['deg_pH10'].values\n",
    "c_val = train_data[train_data.sequence == 'C']['deg_pH10'].values\n",
    "u_val = train_data[train_data.sequence == 'U']['deg_pH10'].values\n",
    "\n",
    "fig, axs = plt.subplots(2, 2, figsize=(10, 10))\n",
    "axs[0, 0].hist(g_val, bins=50, density=True, range=(-2,5))\n",
    "axs[0, 0].set_title('Guanine (G)')\n",
    "axs[0, 1].hist(a_val, bins=50, density=True, range=(-1,5))\n",
    "axs[0, 1].set_title('Adenine (A)')\n",
    "axs[1, 0].hist(c_val, bins=50, density=True, range=(-2,4))\n",
    "axs[1, 0].set_title('Cytosine (C)')\n",
    "axs[1, 1].hist(u_val, bins=50, density=True, range=(-3,4))\n",
    "axs[1, 1].set_title('Uracil (U)')\n"
   ]
  },
  {
   "cell_type": "markdown",
   "id": "bfa8de8b-970b-4f5b-86bd-bec47fda6ba9",
   "metadata": {},
   "source": [
    "## deg_Mg_pH10"
   ]
  },
  {
   "cell_type": "code",
   "execution_count": 27,
   "id": "0c2c492d-0afe-4720-a1e0-7614ba433ca1",
   "metadata": {},
   "outputs": [
    {
     "data": {
      "text/plain": [
       "Text(0.5, 1.0, 'Uracil (U)')"
      ]
     },
     "execution_count": 27,
     "metadata": {},
     "output_type": "execute_result"
    },
    {
     "data": {
      "image/png": "[encoded data removed]",
      "text/plain": [
       "<Figure size 720x720 with 4 Axes>"
      ]
     },
     "metadata": {
      "needs_background": "light"
     },
     "output_type": "display_data"
    }
   ],
   "source": [
    "g_val = train_data[train_data.sequence == 'G']['deg_Mg_pH10'].values\n",
    "a_val = train_data[train_data.sequence == 'A']['deg_Mg_pH10'].values\n",
    "c_val = train_data[train_data.sequence == 'C']['deg_Mg_pH10'].values\n",
    "u_val = train_data[train_data.sequence == 'U']['deg_Mg_pH10'].values\n",
    "\n",
    "fig, axs = plt.subplots(2, 2, figsize=(10, 10))\n",
    "axs[0, 0].hist(g_val, bins=60, density=True, range=(-1,5))\n",
    "axs[0, 0].set_title('Guanine (G)')\n",
    "axs[0, 1].hist(a_val, bins=60, density=True, range=(-1,5))\n",
    "axs[0, 1].set_title('Adenine (A)')\n",
    "axs[1, 0].hist(c_val, bins=60, density=True, range=(-2,4))\n",
    "axs[1, 0].set_title('Cytosine (C)')\n",
    "axs[1, 1].hist(u_val, bins=60, density=True, range=(-2,4))\n",
    "axs[1, 1].set_title('Uracil (U)')\n"
   ]
  },
  {
   "cell_type": "markdown",
   "id": "3135dda9-85f3-4e29-b37a-d20a254e041d",
   "metadata": {},
   "source": [
    "## Base Model"
   ]
  },
  {
   "cell_type": "code",
   "execution_count": 34,
   "id": "e7e49bbc-809c-400f-a1da-a052626b2c3d",
   "metadata": {},
   "outputs": [],
   "source": [
    "seq = pd.get_dummies(train_data['sequence'], prefix='base')"
   ]
  },
  {
   "cell_type": "code",
   "execution_count": 35,
   "id": "6115be51-2553-4e05-b112-ba71429421d5",
   "metadata": {},
   "outputs": [
    {
     "data": {
      "text/html": [
       "<div>\n",
       "<style scoped>\n",
       "    .dataframe tbody tr th:only-of-type {\n",
       "        vertical-align: middle;\n",
       "    }\n",
       "\n",
       "    .dataframe tbody tr th {\n",
       "        vertical-align: top;\n",
       "    }\n",
       "\n",
       "    .dataframe thead th {\n",
       "        text-align: right;\n",
       "    }\n",
       "</style>\n",
       "<table border=\"1\" class=\"dataframe\">\n",
       "  <thead>\n",
       "    <tr style=\"text-align: right;\">\n",
       "      <th></th>\n",
       "      <th>base_A</th>\n",
       "      <th>base_C</th>\n",
       "      <th>base_G</th>\n",
       "      <th>base_U</th>\n",
       "    </tr>\n",
       "  </thead>\n",
       "  <tbody>\n",
       "    <tr>\n",
       "      <th>0</th>\n",
       "      <td>0</td>\n",
       "      <td>0</td>\n",
       "      <td>1</td>\n",
       "      <td>0</td>\n",
       "    </tr>\n",
       "    <tr>\n",
       "      <th>1</th>\n",
       "      <td>0</td>\n",
       "      <td>0</td>\n",
       "      <td>1</td>\n",
       "      <td>0</td>\n",
       "    </tr>\n",
       "    <tr>\n",
       "      <th>2</th>\n",
       "      <td>1</td>\n",
       "      <td>0</td>\n",
       "      <td>0</td>\n",
       "      <td>0</td>\n",
       "    </tr>\n",
       "    <tr>\n",
       "      <th>3</th>\n",
       "      <td>1</td>\n",
       "      <td>0</td>\n",
       "      <td>0</td>\n",
       "      <td>0</td>\n",
       "    </tr>\n",
       "    <tr>\n",
       "      <th>4</th>\n",
       "      <td>1</td>\n",
       "      <td>0</td>\n",
       "      <td>0</td>\n",
       "      <td>0</td>\n",
       "    </tr>\n",
       "  </tbody>\n",
       "</table>\n",
       "</div>"
      ],
      "text/plain": [
       "   base_A  base_C  base_G  base_U\n",
       "0       0       0       1       0\n",
       "1       0       0       1       0\n",
       "2       1       0       0       0\n",
       "3       1       0       0       0\n",
       "4       1       0       0       0"
      ]
     },
     "execution_count": 35,
     "metadata": {},
     "output_type": "execute_result"
    }
   ],
   "source": [
    "seq.head()"
   ]
  },
  {
   "cell_type": "code",
   "execution_count": 36,
   "id": "f4ace27c-ecdb-4c5a-a4b7-623414b91b51",
   "metadata": {},
   "outputs": [],
   "source": [
    "struc = pd.get_dummies(train_data['structure'], prefix='struc')"
   ]
  },
  {
   "cell_type": "code",
   "execution_count": 37,
   "id": "b0a53c75-d365-4c0b-89e8-dbdc0e789d80",
   "metadata": {},
   "outputs": [
    {
     "data": {
      "text/html": [
       "<div>\n",
       "<style scoped>\n",
       "    .dataframe tbody tr th:only-of-type {\n",
       "        vertical-align: middle;\n",
       "    }\n",
       "\n",
       "    .dataframe tbody tr th {\n",
       "        vertical-align: top;\n",
       "    }\n",
       "\n",
       "    .dataframe thead th {\n",
       "        text-align: right;\n",
       "    }\n",
       "</style>\n",
       "<table border=\"1\" class=\"dataframe\">\n",
       "  <thead>\n",
       "    <tr style=\"text-align: right;\">\n",
       "      <th></th>\n",
       "      <th>struc_(</th>\n",
       "      <th>struc_)</th>\n",
       "      <th>struc_.</th>\n",
       "    </tr>\n",
       "  </thead>\n",
       "  <tbody>\n",
       "    <tr>\n",
       "      <th>0</th>\n",
       "      <td>0</td>\n",
       "      <td>0</td>\n",
       "      <td>1</td>\n",
       "    </tr>\n",
       "    <tr>\n",
       "      <th>1</th>\n",
       "      <td>0</td>\n",
       "      <td>0</td>\n",
       "      <td>1</td>\n",
       "    </tr>\n",
       "    <tr>\n",
       "      <th>2</th>\n",
       "      <td>0</td>\n",
       "      <td>0</td>\n",
       "      <td>1</td>\n",
       "    </tr>\n",
       "    <tr>\n",
       "      <th>3</th>\n",
       "      <td>0</td>\n",
       "      <td>0</td>\n",
       "      <td>1</td>\n",
       "    </tr>\n",
       "    <tr>\n",
       "      <th>4</th>\n",
       "      <td>0</td>\n",
       "      <td>0</td>\n",
       "      <td>1</td>\n",
       "    </tr>\n",
       "  </tbody>\n",
       "</table>\n",
       "</div>"
      ],
      "text/plain": [
       "   struc_(  struc_)  struc_.\n",
       "0        0        0        1\n",
       "1        0        0        1\n",
       "2        0        0        1\n",
       "3        0        0        1\n",
       "4        0        0        1"
      ]
     },
     "execution_count": 37,
     "metadata": {},
     "output_type": "execute_result"
    }
   ],
   "source": [
    "struc.head()"
   ]
  },
  {
   "cell_type": "code",
   "execution_count": 40,
   "id": "f5b04833-f8a6-4e39-9691-ace2a8ac52f9",
   "metadata": {},
   "outputs": [
    {
     "data": {
      "text/html": [
       "<div>\n",
       "<style scoped>\n",
       "    .dataframe tbody tr th:only-of-type {\n",
       "        vertical-align: middle;\n",
       "    }\n",
       "\n",
       "    .dataframe tbody tr th {\n",
       "        vertical-align: top;\n",
       "    }\n",
       "\n",
       "    .dataframe thead th {\n",
       "        text-align: right;\n",
       "    }\n",
       "</style>\n",
       "<table border=\"1\" class=\"dataframe\">\n",
       "  <thead>\n",
       "    <tr style=\"text-align: right;\">\n",
       "      <th></th>\n",
       "      <th>base_A</th>\n",
       "      <th>base_C</th>\n",
       "      <th>base_G</th>\n",
       "      <th>base_U</th>\n",
       "      <th>struc_(</th>\n",
       "      <th>struc_)</th>\n",
       "      <th>struc_.</th>\n",
       "    </tr>\n",
       "  </thead>\n",
       "  <tbody>\n",
       "    <tr>\n",
       "      <th>0</th>\n",
       "      <td>0</td>\n",
       "      <td>0</td>\n",
       "      <td>1</td>\n",
       "      <td>0</td>\n",
       "      <td>0</td>\n",
       "      <td>0</td>\n",
       "      <td>1</td>\n",
       "    </tr>\n",
       "    <tr>\n",
       "      <th>1</th>\n",
       "      <td>0</td>\n",
       "      <td>0</td>\n",
       "      <td>1</td>\n",
       "      <td>0</td>\n",
       "      <td>0</td>\n",
       "      <td>0</td>\n",
       "      <td>1</td>\n",
       "    </tr>\n",
       "    <tr>\n",
       "      <th>2</th>\n",
       "      <td>1</td>\n",
       "      <td>0</td>\n",
       "      <td>0</td>\n",
       "      <td>0</td>\n",
       "      <td>0</td>\n",
       "      <td>0</td>\n",
       "      <td>1</td>\n",
       "    </tr>\n",
       "    <tr>\n",
       "      <th>3</th>\n",
       "      <td>1</td>\n",
       "      <td>0</td>\n",
       "      <td>0</td>\n",
       "      <td>0</td>\n",
       "      <td>0</td>\n",
       "      <td>0</td>\n",
       "      <td>1</td>\n",
       "    </tr>\n",
       "    <tr>\n",
       "      <th>4</th>\n",
       "      <td>1</td>\n",
       "      <td>0</td>\n",
       "      <td>0</td>\n",
       "      <td>0</td>\n",
       "      <td>0</td>\n",
       "      <td>0</td>\n",
       "      <td>1</td>\n",
       "    </tr>\n",
       "  </tbody>\n",
       "</table>\n",
       "</div>"
      ],
      "text/plain": [
       "   base_A  base_C  base_G  base_U  struc_(  struc_)  struc_.\n",
       "0       0       0       1       0        0        0        1\n",
       "1       0       0       1       0        0        0        1\n",
       "2       1       0       0       0        0        0        1\n",
       "3       1       0       0       0        0        0        1\n",
       "4       1       0       0       0        0        0        1"
      ]
     },
     "execution_count": 40,
     "metadata": {},
     "output_type": "execute_result"
    }
   ],
   "source": [
    "x_train = pd.concat([seq, struc], axis=1)\n",
    "x_train.head()"
   ]
  },
  {
   "cell_type": "markdown",
   "id": "6a0a8969-31dd-4615-8294-6f6e0e20ce1b",
   "metadata": {},
   "source": [
    "## Deep Learning Model"
   ]
  },
  {
   "cell_type": "code",
   "execution_count": 28,
   "id": "aa2ed301-b63e-47d3-bc18-cb2d1168bb64",
   "metadata": {},
   "outputs": [],
   "source": [
    "import tensorflow as tf\n",
    "from tensorflow import keras"
   ]
  },
  {
   "cell_type": "code",
   "execution_count": 29,
   "id": "501e796b-b557-4245-befe-705b9ce42ed4",
   "metadata": {},
   "outputs": [
    {
     "name": "stdout",
     "output_type": "stream",
     "text": [
      "2.6.2\n",
      "2.6.0\n"
     ]
    }
   ],
   "source": [
    "print(tf.__version__)\n",
    "print(keras.__version__)"
   ]
  }
 ],
 "metadata": {
  "kernelspec": {
   "display_name": "Python 3",
   "language": "python",
   "name": "python3"
  },
  "language_info": {
   "codemirror_mode": {
    "name": "ipython",
    "version": 3
   },
   "file_extension": ".py",
   "mimetype": "text/x-python",
   "name": "python",
   "nbconvert_exporter": "python",
   "pygments_lexer": "ipython3",
   "version": "3.6.13"
  }
 },
 "nbformat": 4,
 "nbformat_minor": 5
}

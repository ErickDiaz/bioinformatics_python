{
 "cells": [
  {
   "cell_type": "markdown",
   "metadata": {},
   "source": [
    "**Code Challenge:** Implement PatternCount (reproduced below).\n",
    "     Input: Strings Text and Pattern.\n",
    "     Output: Count(Text, Pattern).\n",
    "```\n",
    "    PatternCount(Text, Pattern)\n",
    "        count ← 0\n",
    "        for i ← 0 to |Text| − |Pattern|\n",
    "            if Text(i, |Pattern|) = Pattern\n",
    "                count ← count + 1\n",
    "        return count\n",
    "```"
   ]
  },
  {
   "cell_type": "code",
   "execution_count": 2,
   "metadata": {},
   "outputs": [],
   "source": [
    "file = \"dataset_2_7.txt\""
   ]
  },
  {
   "cell_type": "code",
   "execution_count": 3,
   "metadata": {},
   "outputs": [],
   "source": [
    "pattern_raw = open(file, \"r\").readlines()"
   ]
  },
  {
   "cell_type": "code",
   "execution_count": 4,
   "metadata": {},
   "outputs": [
    {
     "data": {
      "text/plain": [
       "'ACTATAAAATATAAAATATAAAACTCGGCTATAAAACTATAAAATCTTATAAAATATAAAAAATATATAAAAGGAGTATAAAATATAAAAGTATAAAATATAAAATATAAAACGGGCATCTATAAAATATAAAAGGATTGACTATAAAAAAATCAGATATAAAATCTTATAAAATTCTATAAAAGGCTATAAAATATAAAATCCCTGTATAAAATATAAAAGTATAAAATATATAAAATATAAAATATAAAATATAAAAATATAAAATTCGATTATAAAATTTATAAAAGCTATAAAACTATAAAATTTTTACTATAAAACCCTCCGGTATAAAATATAAAAGCTAACCCTTATAAAATATAAAAGTATAAAACTATAAAAGCTATAAAACGTGGGTATAAAACTATAAAATATAAAATGTCTCGTATAAAATATAAAACACTATAAAATATAAAACTATAAAAGTATAAAATTATAAAACTAGTATAAAAATATAAAATATAAAACCGTATAAAAACACAGGTCGTTTCCATATAAAACTATCAAGTATAAAATATAAAATATAAAATATAAAACGTATAAAATACGTTTATAAAACTAGACTATAAAAATATAAAATTGTATAAAACGCCTATAAAACTATAAAACTATAAAACCGTATAAAAACCGCAAGATTCGATATAAAAGTATAAAACGGTCATTATAAAATATAAAAGATATAAAATTATAAAATATAAAACGACTATGGTTATAAAAACTATAAAAAAAGTATAAAATATAAAAACAGACTATAAAACATATAAAATATAAAAATGGTTCGTATAAAAGCCTCATATAAAATATAAAAGTACTGCTGATATAAAAGTATAAAATATAAAACCTATAAAAATCCATATAAAACGATACGTTCCTCTATTATAAAATATAAAATTATAAAATATAAAATATAAAACCGTTATAAAATATAAAAATATAAAAATATAAAAATATAAAATATAAAAAACTATAAAATACATATAAAATCTATAAAAACAGCCAGCTTCTATAAAA\\n'"
      ]
     },
     "execution_count": 4,
     "metadata": {},
     "output_type": "execute_result"
    }
   ],
   "source": [
    "pattern_raw[0]"
   ]
  },
  {
   "cell_type": "code",
   "execution_count": 5,
   "metadata": {},
   "outputs": [],
   "source": [
    "def pattern_count(text, pattern):\n",
    "    count = 0 \n",
    "   \n",
    "    for i in range(0, len(text) - len(pattern)+1):\n",
    "        if (text[i:i+len(pattern)] == pattern):\n",
    "            count+=1\n",
    "    return count"
   ]
  },
  {
   "cell_type": "code",
   "execution_count": 6,
   "metadata": {},
   "outputs": [
    {
     "data": {
      "text/plain": [
       "0"
      ]
     },
     "execution_count": 6,
     "metadata": {},
     "output_type": "execute_result"
    }
   ],
   "source": [
    "pattern_count(pattern_raw, \"GCGCG\")"
   ]
  },
  {
   "cell_type": "code",
   "execution_count": 7,
   "metadata": {},
   "outputs": [
    {
     "name": "stdout",
     "output_type": "stream",
     "text": [
      "ACTATAAAATATAAAATATAAAACTCGGCTATAAAACTATAAAATCTTATAAAATATAAAAAATATATAAAAGGAGTATAAAATATAAAAGTATAAAATATAAAATATAAAACGGGCATCTATAAAATATAAAAGGATTGACTATAAAAAAATCAGATATAAAATCTTATAAAATTCTATAAAAGGCTATAAAATATAAAATCCCTGTATAAAATATAAAAGTATAAAATATATAAAATATAAAATATAAAATATAAAAATATAAAATTCGATTATAAAATTTATAAAAGCTATAAAACTATAAAATTTTTACTATAAAACCCTCCGGTATAAAATATAAAAGCTAACCCTTATAAAATATAAAAGTATAAAACTATAAAAGCTATAAAACGTGGGTATAAAACTATAAAATATAAAATGTCTCGTATAAAATATAAAACACTATAAAATATAAAACTATAAAAGTATAAAATTATAAAACTAGTATAAAAATATAAAATATAAAACCGTATAAAAACACAGGTCGTTTCCATATAAAACTATCAAGTATAAAATATAAAATATAAAATATAAAACGTATAAAATACGTTTATAAAACTAGACTATAAAAATATAAAATTGTATAAAACGCCTATAAAACTATAAAACTATAAAACCGTATAAAAACCGCAAGATTCGATATAAAAGTATAAAACGGTCATTATAAAATATAAAAGATATAAAATTATAAAATATAAAACGACTATGGTTATAAAAACTATAAAAAAAGTATAAAATATAAAAACAGACTATAAAACATATAAAATATAAAAATGGTTCGTATAAAAGCCTCATATAAAATATAAAAGTACTGCTGATATAAAAGTATAAAATATAAAACCTATAAAAATCCATATAAAACGATACGTTCCTCTATTATAAAATATAAAATTATAAAATATAAAATATAAAACCGTTATAAAATATAAAAATATAAAAATATAAAAATATAAAATATAAAAAACTATAAAATACATATAAAATCTATAAAAACAGCCAGCTTCTATAAAA\n",
      "TATAAAATA\n"
     ]
    }
   ],
   "source": [
    "input_data = pattern_raw[0].rstrip('\\n')\n",
    "pattern = pattern_raw[1].rstrip('\\n')\n",
    "\n",
    "print(input_data)\n",
    "print(pattern)"
   ]
  },
  {
   "cell_type": "code",
   "execution_count": 8,
   "metadata": {},
   "outputs": [
    {
     "data": {
      "text/plain": [
       "35"
      ]
     },
     "execution_count": 8,
     "metadata": {},
     "output_type": "execute_result"
    }
   ],
   "source": [
    "pattern_count(input_data, pattern)"
   ]
  },
  {
   "cell_type": "code",
   "execution_count": null,
   "metadata": {},
   "outputs": [],
   "source": []
  },
  {
   "cell_type": "code",
   "execution_count": 10,
   "metadata": {},
   "outputs": [
    {
     "data": {
      "text/plain": [
       "6"
      ]
     },
     "execution_count": 10,
     "metadata": {},
     "output_type": "execute_result"
    }
   ],
   "source": [
    "pattern_count(\"GACCATCAAAACTGATAAACTACTTAAAAATCAGT\", \"AAA\")"
   ]
  },
  {
   "cell_type": "code",
   "execution_count": null,
   "metadata": {},
   "outputs": [],
   "source": []
  }
 ],
 "metadata": {
  "kernelspec": {
   "display_name": "Python 3",
   "language": "python",
   "name": "python3"
  },
  "language_info": {
   "codemirror_mode": {
    "name": "ipython",
    "version": 3
   },
   "file_extension": ".py",
   "mimetype": "text/x-python",
   "name": "python",
   "nbconvert_exporter": "python",
   "pygments_lexer": "ipython3",
   "version": "3.8.1"
  }
 },
 "nbformat": 4,
 "nbformat_minor": 4
}
